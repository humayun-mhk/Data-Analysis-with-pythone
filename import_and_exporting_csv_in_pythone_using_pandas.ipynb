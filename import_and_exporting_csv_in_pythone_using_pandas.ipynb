{
  "nbformat": 4,
  "nbformat_minor": 0,
  "metadata": {
    "colab": {
      "provenance": [],
      "authorship_tag": "ABX9TyM7r3jnijWX9u81ZSifaK2D",
      "include_colab_link": true
    },
    "kernelspec": {
      "name": "python3",
      "display_name": "Python 3"
    },
    "language_info": {
      "name": "python"
    }
  },
  "cells": [
    {
      "cell_type": "markdown",
      "metadata": {
        "id": "view-in-github",
        "colab_type": "text"
      },
      "source": [
        "<a href=\"https://colab.research.google.com/github/humayun-mhk/Data-Analysis-with-pythone/blob/main/import_and_exporting_csv_in_pythone_using_pandas.ipynb\" target=\"_parent\"><img src=\"https://colab.research.google.com/assets/colab-badge.svg\" alt=\"Open In Colab\"/></a>"
      ]
    },
    {
      "cell_type": "markdown",
      "source": [
        "import and exporting csv in pythone using pandas"
      ],
      "metadata": {
        "id": "vsT2ZBiRDZ0a"
      }
    },
    {
      "cell_type": "code",
      "source": [
        "import pandas as pd\n",
        "import numpy as np\n",
        "my_file =(\"/content/imports-85.csv\")\n",
        "header = [\"symboling\", \"normalized-losses\", \"make\", \"fuel-type\", \"aspiration\", \"num-of-doors\", \"body-style\",\n",
        "          \"drive-wheels\", \"engine-location\", \"wheel-base\", \"length\", \"width\", \"height\", \"curb-weight\",\n",
        "          \"engine-type\", \"num-of-cylinders\", \"engine-size\", \"fuel-system\", \"bore\", \"stroke\", \"compression-ratio\",\n",
        "          \"horsepower\", \"peak-rpm\", \"city-mpg\", \"highway-mpg\", \"price\"]\n",
        "df = pd.read_csv(my_file, names= header)\n",
        "df.to_csv(\"mhk.csv\", index=False)\n",
        "print(df)"
      ],
      "metadata": {
        "colab": {
          "base_uri": "https://localhost:8080/"
        },
        "id": "NueR7zTF_s3M",
        "outputId": "2cc9d4d6-4342-45d2-f9d4-a956aeae72a1"
      },
      "execution_count": 12,
      "outputs": [
        {
          "output_type": "stream",
          "name": "stdout",
          "text": [
            "     symboling normalized-losses         make fuel-type aspiration  \\\n",
            "0            3                 ?  alfa-romero       gas        std   \n",
            "1            3                 ?  alfa-romero       gas        std   \n",
            "2            1                 ?  alfa-romero       gas        std   \n",
            "3            2               164         audi       gas        std   \n",
            "4            2               164         audi       gas        std   \n",
            "..         ...               ...          ...       ...        ...   \n",
            "200         -1                95        volvo       gas        std   \n",
            "201         -1                95        volvo       gas      turbo   \n",
            "202         -1                95        volvo       gas        std   \n",
            "203         -1                95        volvo    diesel      turbo   \n",
            "204         -1                95        volvo       gas      turbo   \n",
            "\n",
            "    num-of-doors   body-style drive-wheels engine-location  wheel-base  ...  \\\n",
            "0            two  convertible          rwd           front        88.6  ...   \n",
            "1            two  convertible          rwd           front        88.6  ...   \n",
            "2            two    hatchback          rwd           front        94.5  ...   \n",
            "3           four        sedan          fwd           front        99.8  ...   \n",
            "4           four        sedan          4wd           front        99.4  ...   \n",
            "..           ...          ...          ...             ...         ...  ...   \n",
            "200         four        sedan          rwd           front       109.1  ...   \n",
            "201         four        sedan          rwd           front       109.1  ...   \n",
            "202         four        sedan          rwd           front       109.1  ...   \n",
            "203         four        sedan          rwd           front       109.1  ...   \n",
            "204         four        sedan          rwd           front       109.1  ...   \n",
            "\n",
            "     engine-size  fuel-system  bore  stroke compression-ratio horsepower  \\\n",
            "0            130         mpfi  3.47    2.68               9.0        111   \n",
            "1            130         mpfi  3.47    2.68               9.0        111   \n",
            "2            152         mpfi  2.68    3.47               9.0        154   \n",
            "3            109         mpfi  3.19    3.40              10.0        102   \n",
            "4            136         mpfi  3.19    3.40               8.0        115   \n",
            "..           ...          ...   ...     ...               ...        ...   \n",
            "200          141         mpfi  3.78    3.15               9.5        114   \n",
            "201          141         mpfi  3.78    3.15               8.7        160   \n",
            "202          173         mpfi  3.58    2.87               8.8        134   \n",
            "203          145          idi  3.01    3.40              23.0        106   \n",
            "204          141         mpfi  3.78    3.15               9.5        114   \n",
            "\n",
            "     peak-rpm city-mpg highway-mpg  price  \n",
            "0        5000       21          27  13495  \n",
            "1        5000       21          27  16500  \n",
            "2        5000       19          26  16500  \n",
            "3        5500       24          30  13950  \n",
            "4        5500       18          22  17450  \n",
            "..        ...      ...         ...    ...  \n",
            "200      5400       23          28  16845  \n",
            "201      5300       19          25  19045  \n",
            "202      5500       18          23  21485  \n",
            "203      4800       26          27  22470  \n",
            "204      5400       19          25  22625  \n",
            "\n",
            "[205 rows x 26 columns]\n"
          ]
        }
      ]
    },
    {
      "cell_type": "markdown",
      "source": [
        "Purpose:\n",
        "This code saves a table of data (like a spreadsheet) into a file called automobiles.csv. The file is in CSV format, which is widely used for storing and sharing data.\n",
        "\n"
      ],
      "metadata": {
        "id": "QE7zhFwwERSA"
      }
    },
    {
      "cell_type": "markdown",
      "source": [],
      "metadata": {
        "id": "kzDnmShkDo1o"
      }
    },
    {
      "cell_type": "code",
      "source": [
        "import csv\n",
        "\n",
        "# Table data: headers + rows\n",
        "data = [\n",
        "    [\"symboling\", \"normalized-losses\", \"make\", \"fuel-type\", \"aspiration\", \"num-of-doors\", \"body-style\", \"drive-wheels\", \"engine-location\", \"wheel-base\", \"length\", \"width\", \"height\", \"curb-weight\", \"engine-type\", \"num-of-cylinders\", \"engine-size\", \"fuel-system\", \"bore\", \"stroke\", \"compression-ratio\", \"horsepower\", \"peak-rpm\", \"city-mpg\", \"highway-mpg\", \"price\"],\n",
        "    [3, \"?\", \"alfa-romero\", \"gas\", \"std\", \"two\", \"convertible\", \"rwd\", \"front\", 88.60, 168.80, 64.10, 48.80, 2548, \"dohc\", \"four\", 130, \"mpfi\", 3.47, 2.68, 9.00, 111, 5000, 21, 27, 13495],\n",
        "    [3, \"?\", \"alfa-romero\", \"gas\", \"std\", \"two\", \"convertible\", \"rwd\", \"front\", 88.60, 168.80, 64.10, 48.80, 2548, \"dohc\", \"four\", 130, \"mpfi\", 3.47, 2.68, 9.00, 111, 5000, 21, 27, 16500],\n",
        "    [1, \"?\", \"alfa-romero\", \"gas\", \"std\", \"two\", \"hatchback\", \"rwd\", \"front\", 94.50, 171.20, 65.50, 52.40, 2823, \"ohcv\", \"six\", 152, \"mpfi\", 2.68, 3.47, 9.00, 154, 5000, 19, 26, 16500],\n",
        "]\n",
        "\n",
        "# Write data to a CSV file\n",
        "with open(\"automobiles.csv\", mode=\"w\", newline=\"\") as file:\n",
        "    writer = csv.writer(file)\n",
        "    writer.writerows(data)\n",
        "\n",
        "print(\"CSV file 'automobiles.csv' created successfully!\")\n"
      ],
      "metadata": {
        "id": "Mmh0FolqDqBh"
      },
      "execution_count": null,
      "outputs": []
    },
    {
      "cell_type": "markdown",
      "source": [],
      "metadata": {
        "id": "Ut7bsDd0DF9W"
      }
    },
    {
      "cell_type": "code",
      "source": [],
      "metadata": {
        "id": "i5k_tx73CgUC"
      },
      "execution_count": null,
      "outputs": []
    }
  ]
}